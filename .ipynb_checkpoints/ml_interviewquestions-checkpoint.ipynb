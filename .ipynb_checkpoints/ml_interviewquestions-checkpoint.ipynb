{
 "cells": [
  {
   "cell_type": "markdown",
   "metadata": {},
   "source": [
    "# Course outline\n",
    "+ Chapter 1: Pre-processing and Visualization    \n",
    "`Missing data, Outliers, Normalization`\n",
    "+ Chapter 2: Supervised Learning    \n",
    "`Feature selection, Regularization, Feature engineering`\n",
    "+ Chapter 3: Unsupervised Learning    \n",
    "`Cluster algorithm selection, Feature extraction, Dimension reduction`\n",
    "+ Chapter 4: Model Selection and Evaluation    \n",
    "`Model generalization and evaluation, Model selection`    \n",
    "\n",
    "![](ml_pipline.png)"
   ]
  },
  {
   "cell_type": "markdown",
   "metadata": {},
   "source": [
    "# Data Pre-processing and Visualization"
   ]
  },
  {
   "cell_type": "markdown",
   "metadata": {},
   "source": [
    "## Handling missing data\n",
    "\n",
    ">Techniqus:    \n",
    "\n",
    "1. Omission\n",
    "  + Removal of rows --> `.dropna(axis=0)`\n",
    "  + Removal of columns --> `.dropna(axis=1)`    \n",
    "\n",
    "2. Imputation  ***`sklearn.impute.SimpleImputer()`***\n",
    "  + Fill with zero --> `SimpleImputer(strategy='constant', fill_value=0)`\n",
    "  + Impute mean -> `SimpleImputer(strategy='mean')`\n",
    "  + Impute median --> `SimpleImputer(strategy='median')`\n",
    "  + Impute mode --> `SimpleImputer(strategy='most_frequent')`\n",
    "  + Iterative imputation:     \n",
    "  `sklearn.experimental.enable_iterative_imputer`    \n",
    "  `sklearn.impute.IterativeImputer()`\n",
    "\n",
    "---\n",
    "\n",
    ">Effects of imputation    \n",
    "\n",
    "Depend on:\n",
    "+ Missing values\n",
    "+ Original variance\n",
    "+ Presence of outliers\n",
    "+ Size and direction of skew    \n",
    "\n",
    "Omission --> Can remove too much    \n",
    "Zero --> Bias results downward    \n",
    "Mean --> Affected more by outliers    \n",
    "Median --> Better in case of outliers    \n",
    "Mode and iterative imputation--> Try them out    \n",
    "\n",
    "Function| Returns\n",
    ":-|:-\n",
    "***`df.isna().sum()`***| number missing\n",
    "***`df['feature'].mean()`***| feature mean\n",
    "***`df.shape`***| row, column dimensions\n",
    "***`df.columns`***| column names\n",
    "***`df.fillna(0)`***| fills missing with 0\n",
    "***`df.select_dtypes(include = [np.number])`***| numeric columns\n",
    "***`df.select_dtypes(include = ['object'])`***| string columns\n",
    "***`sklearn.impute`<br>`.SimpleImputer()`<br>`.fit_transform(numeric_cols)`***| fits and transforms\n",
    "\n",
    "---\n",
    "\n",
    ">Effects of missing values    \n",
    "\n",
    "What are the effects of missing values in a Machine Learning (ML) setting?    \n",
    "Select the answer that is true: 3   \n",
    "\n",
    "+ Missing values aren't a problem since most of sklearn 's algorithms can handle them. (Most of sklearn 's algorithms cannot handle missing values and will throw an error.)\n",
    "+ Removing observations or features with missing values is generally a good idea. (Unless your dataset is large and the proportion of missing values small, removing rows or columns with missing data usually results in shrinking your dataset too much to be useful in subsequent ML.)\n",
    "+ ***Missing data tends to introduce bias that leads to misleading results so they cannot be ignored. (`Filling missing values by testing which impacts the variance of a given dataset the least is the best approach.`)***\n",
    "+ Filling missing values with zero will bias results upward. (It's the opposite, filling with zero will bias results downward.)"
   ]
  },
  {
   "cell_type": "code",
   "execution_count": 9,
   "metadata": {
    "ExecuteTime": {
     "end_time": "2020-01-09T03:32:44.572460Z",
     "start_time": "2020-01-09T03:32:44.562456Z"
    },
    "code_folding": [
     0
    ],
    "collapsed": true
   },
   "outputs": [
    {
     "data": {
      "text/html": [
       "<video controls=\"\" preload=\"none\" width=\"900px\" height=\"600px\">\n",
       "    <source src=\"Handling missing data Python.mp4\">\n",
       "</video>\n"
      ],
      "text/plain": [
       "<IPython.core.display.HTML object>"
      ]
     },
     "metadata": {},
     "output_type": "display_data"
    }
   ],
   "source": [
    "%%html\n",
    "<video controls=\"\" preload=\"none\" width=\"900px\" height=\"600px\">\n",
    "    <source src=\"Handling missing data Python.mp4\">\n",
    "</video>"
   ]
  },
  {
   "cell_type": "code",
   "execution_count": 16,
   "metadata": {
    "ExecuteTime": {
     "end_time": "2020-01-09T07:31:31.273769Z",
     "start_time": "2020-01-09T07:31:31.006771Z"
    },
    "collapsed": true
   },
   "outputs": [
    {
     "name": "stdout",
     "output_type": "stream",
     "text": [
      " Volume in drive C is OSDisk\n",
      " Volume Serial Number is E022-8572\n",
      "\n",
      " Directory of C:\\Users\\wqiong\\Desktop\\Directory\\My_Ps\\ML_prep\n",
      "\n",
      "01/09/2020  02:33 PM            89,244 diabetes.csv\n",
      "01/09/2020  02:33 PM         7,835,622 loan_missing_filled.csv\n",
      "01/09/2020  02:34 PM         8,738,474 LoansTrainingSetReduced.csv\n",
      "               3 File(s)     16,663,340 bytes\n",
      "               0 Dir(s)  122,562,662,400 bytes free\n"
     ]
    }
   ],
   "source": [
    "%ls *.csv"
   ]
  },
  {
   "cell_type": "code",
   "execution_count": 1,
   "metadata": {
    "ExecuteTime": {
     "end_time": "2020-01-13T00:47:45.218807Z",
     "start_time": "2020-01-13T00:47:42.214811Z"
    }
   },
   "outputs": [],
   "source": [
    "import numpy as np\n",
    "import pandas as pd\n",
    "import scipy.stats as ss\n",
    "import statsmodels as sm\n",
    "import matplotlib.pyplot as plt\n",
    "import matplotlib as mpl\n",
    "import seaborn as sns\n",
    "import sklearn as sk\n",
    "\n",
    "mpl.rcParams['figure.figsize'] = [12, 9]"
   ]
  },
  {
   "cell_type": "markdown",
   "metadata": {
    "ExecuteTime": {
     "end_time": "2020-01-09T09:51:48.671158Z",
     "start_time": "2020-01-09T09:51:46.125628Z"
    }
   },
   "source": [
    "open csv with editor\n",
    "```shell\n",
    "> start notepad++ loan_missing_filled.csv\n",
    "> code loan_missing_filled.csv\n",
    "```"
   ]
  },
  {
   "cell_type": "code",
   "execution_count": 2,
   "metadata": {
    "ExecuteTime": {
     "end_time": "2020-01-13T00:47:51.898791Z",
     "start_time": "2020-01-13T00:47:51.522262Z"
    },
    "collapsed": true
   },
   "outputs": [
    {
     "name": "stdout",
     "output_type": "stream",
     "text": [
      "Loan Status                         0\n",
      "Current Loan Amount                 0\n",
      "Term                                0\n",
      "Credit Score                    21338\n",
      "Years in current job                0\n",
      "Home Ownership                      0\n",
      "Annual Income                   21338\n",
      "Purpose                             0\n",
      "Monthly Debt                        0\n",
      "Years of Credit History             0\n",
      "Months since last delinquent    48506\n",
      "Number of Open Accounts             0\n",
      "Number of Credit Problems           0\n",
      "Current Credit Balance              0\n",
      "Maximum Open Credit                 0\n",
      "Bankruptcies                      192\n",
      "Tax Liens                           8\n",
      "dtype: int64\n",
      "<class 'pandas.core.frame.DataFrame'>\n",
      "RangeIndex: 88910 entries, 0 to 88909\n",
      "Data columns (total 17 columns):\n",
      "Loan Status                     88910 non-null object\n",
      "Current Loan Amount             88910 non-null int64\n",
      "Term                            88910 non-null object\n",
      "Credit Score                    67572 non-null float64\n",
      "Years in current job            88910 non-null float64\n",
      "Home Ownership                  88910 non-null object\n",
      "Annual Income                   67572 non-null float64\n",
      "Purpose                         88910 non-null object\n",
      "Monthly Debt                    88910 non-null float64\n",
      "Years of Credit History         88910 non-null float64\n",
      "Months since last delinquent    40404 non-null float64\n",
      "Number of Open Accounts         88910 non-null int64\n",
      "Number of Credit Problems       88910 non-null int64\n",
      "Current Credit Balance          88910 non-null int64\n",
      "Maximum Open Credit             88910 non-null int64\n",
      "Bankruptcies                    88718 non-null float64\n",
      "Tax Liens                       88902 non-null float64\n",
      "dtypes: float64(8), int64(5), object(4)\n",
      "memory usage: 11.5+ MB\n"
     ]
    }
   ],
   "source": [
    "\n",
    "loan_data = pd.read_csv('LoansTrainingSetReduced.csv')\n",
    "print(loan_data.isna().sum())\n",
    "loan_data.info()"
   ]
  },
  {
   "cell_type": "code",
   "execution_count": 22,
   "metadata": {
    "ExecuteTime": {
     "end_time": "2020-01-09T11:14:10.952487Z",
     "start_time": "2020-01-09T11:14:10.895486Z"
    },
    "collapsed": true
   },
   "outputs": [
    {
     "name": "stdout",
     "output_type": "stream",
     "text": [
      "34.347092565515695\n"
     ]
    }
   ],
   "source": [
    "dropNArows = loan_data.dropna(axis=0)\n",
    "print(dropNArows.shape[0] / loan_data.shape[0] * 100)"
   ]
  },
  {
   "cell_type": "code",
   "execution_count": 24,
   "metadata": {
    "ExecuteTime": {
     "end_time": "2020-01-09T11:14:47.522474Z",
     "start_time": "2020-01-09T11:14:47.458471Z"
    },
    "collapsed": true
   },
   "outputs": [
    {
     "name": "stdout",
     "output_type": "stream",
     "text": [
      "70.58823529411765\n"
     ]
    }
   ],
   "source": [
    "dropNAcols = loan_data.dropna(axis=1)\n",
    "print(dropNAcols.shape[1] / loan_data.shape[1] * 100)"
   ]
  },
  {
   "cell_type": "code",
   "execution_count": 25,
   "metadata": {
    "ExecuteTime": {
     "end_time": "2020-01-09T11:18:29.477827Z",
     "start_time": "2020-01-09T11:18:29.385832Z"
    },
    "collapsed": true
   },
   "outputs": [
    {
     "name": "stdout",
     "output_type": "stream",
     "text": [
      "count    67572.000000\n",
      "mean       721.601951\n",
      "std         27.427709\n",
      "min        585.000000\n",
      "25%        710.000000\n",
      "50%        730.000000\n",
      "75%        741.000000\n",
      "max        751.000000\n",
      "Name: Credit Score, dtype: float64\n",
      "count    88910.000000\n",
      "mean       548.420729\n",
      "std        309.109970\n",
      "min          0.000000\n",
      "25%        632.000000\n",
      "50%        719.000000\n",
      "75%        739.000000\n",
      "max        751.000000\n",
      "Name: Credit Score, dtype: float64\n"
     ]
    }
   ],
   "source": [
    "loan_data_filled = loan_data.fillna(0)\n",
    "print(loan_data['Credit Score'].describe())\n",
    "print(loan_data_filled['Credit Score'].describe())"
   ]
  },
  {
   "cell_type": "code",
   "execution_count": 3,
   "metadata": {
    "ExecuteTime": {
     "end_time": "2020-01-13T00:48:00.147999Z",
     "start_time": "2020-01-13T00:48:00.096998Z"
    },
    "collapsed": true
   },
   "outputs": [
    {
     "name": "stdout",
     "output_type": "stream",
     "text": [
      "<class 'pandas.core.frame.DataFrame'>\n",
      "RangeIndex: 88910 entries, 0 to 88909\n",
      "Data columns (total 4 columns):\n",
      "Loan Status       88910 non-null object\n",
      "Term              88910 non-null object\n",
      "Home Ownership    88910 non-null object\n",
      "Purpose           88910 non-null object\n",
      "dtypes: object(4)\n",
      "memory usage: 2.7+ MB\n"
     ]
    }
   ],
   "source": [
    "categoric_cols = loan_data.select_dtypes(include=['object'])\n",
    "categoric_cols.info()"
   ]
  },
  {
   "cell_type": "markdown",
   "metadata": {},
   "source": [
    "### Simple imputation  `sklearn.impute.SimpleImputer().fit_transform()`"
   ]
  },
  {
   "cell_type": "code",
   "execution_count": 4,
   "metadata": {
    "ExecuteTime": {
     "end_time": "2020-01-13T00:48:03.848023Z",
     "start_time": "2020-01-13T00:48:03.686999Z"
    },
    "collapsed": true
   },
   "outputs": [
    {
     "name": "stdout",
     "output_type": "stream",
     "text": [
      "<class 'pandas.core.frame.DataFrame'>\n",
      "RangeIndex: 88910 entries, 0 to 88909\n",
      "Data columns (total 13 columns):\n",
      "Current Loan Amount             88910 non-null float64\n",
      "Credit Score                    88910 non-null float64\n",
      "Years in current job            88910 non-null float64\n",
      "Annual Income                   88910 non-null float64\n",
      "Monthly Debt                    88910 non-null float64\n",
      "Years of Credit History         88910 non-null float64\n",
      "Months since last delinquent    88910 non-null float64\n",
      "Number of Open Accounts         88910 non-null float64\n",
      "Number of Credit Problems       88910 non-null float64\n",
      "Current Credit Balance          88910 non-null float64\n",
      "Maximum Open Credit             88910 non-null float64\n",
      "Bankruptcies                    88910 non-null float64\n",
      "Tax Liens                       88910 non-null float64\n",
      "dtypes: float64(13)\n",
      "memory usage: 8.8 MB\n",
      "None\n"
     ]
    }
   ],
   "source": [
    "from sklearn.impute import SimpleImputer\n",
    "\n",
    "# Subset numeric features: numeric_cols\n",
    "numeric_cols = loan_data.select_dtypes(include=[np.number])\n",
    "\n",
    "# fill in means of numeric columns \n",
    "loans_imp_mean = (\n",
    "    SimpleImputer(strategy='mean')\n",
    "    .fit_transform(numeric_cols)\n",
    ")\n",
    "\n",
    "loans_imp_meanDF = pd.DataFrame(loans_imp_mean, columns=numeric_cols.columns)\n",
    "\n",
    "print(loans_imp_meanDF.info())"
   ]
  },
  {
   "cell_type": "code",
   "execution_count": null,
   "metadata": {
    "ExecuteTime": {
     "end_time": "2020-01-10T05:50:20.329501Z",
     "start_time": "2020-01-10T05:50:20.316503Z"
    }
   },
   "outputs": [],
   "source": []
  },
  {
   "cell_type": "markdown",
   "metadata": {
    "ExecuteTime": {
     "end_time": "2020-01-10T05:26:30.234612Z",
     "start_time": "2020-01-10T05:26:30.208606Z"
    }
   },
   "source": [
    "### Iterative imputation ??Bayesian ridge  `sklearn.experimental.enable_iterative_imputer()` -> `sklearn.impute.IterativeImputer().fit_transform()`\n",
    "Multivariate imputer that estimates each feature from all the others.\n",
    "[Doc](https://scikit-learn.org/stable/modules/generated/sklearn.impute.IterativeImputer.html)  "
   ]
  },
  {
   "cell_type": "code",
   "execution_count": 5,
   "metadata": {
    "ExecuteTime": {
     "end_time": "2020-01-13T00:48:12.055999Z",
     "start_time": "2020-01-13T00:48:08.351000Z"
    }
   },
   "outputs": [
    {
     "name": "stdout",
     "output_type": "stream",
     "text": [
      "<class 'pandas.core.frame.DataFrame'>\n",
      "RangeIndex: 88910 entries, 0 to 88909\n",
      "Data columns (total 13 columns):\n",
      "Current Loan Amount             88910 non-null float64\n",
      "Credit Score                    88910 non-null float64\n",
      "Years in current job            88910 non-null float64\n",
      "Annual Income                   88910 non-null float64\n",
      "Monthly Debt                    88910 non-null float64\n",
      "Years of Credit History         88910 non-null float64\n",
      "Months since last delinquent    88910 non-null float64\n",
      "Number of Open Accounts         88910 non-null float64\n",
      "Number of Credit Problems       88910 non-null float64\n",
      "Current Credit Balance          88910 non-null float64\n",
      "Maximum Open Credit             88910 non-null float64\n",
      "Bankruptcies                    88910 non-null float64\n",
      "Tax Liens                       88910 non-null float64\n",
      "dtypes: float64(13)\n",
      "memory usage: 8.8 MB\n",
      "None\n"
     ]
    }
   ],
   "source": [
    "# Explicitly require this experimental feature\n",
    "from sklearn.experimental import enable_iterative_imputer\n",
    "# Now you can import normally from sklearn.impute\n",
    "from sklearn.impute import IterativeImputer\n",
    "\n",
    "numeric_cols = loan_data.select_dtypes(include=[np.number])\n",
    "\n",
    "# Iteratively impute\n",
    "imp_iter = IterativeImputer(\n",
    "    max_iter=5, \n",
    "    sample_posterior=True, \n",
    "    random_state=123\n",
    ")\n",
    "loans_imp_iter = imp_iter.fit_transform(numeric_cols)\n",
    "\n",
    "loans_imp_iterDF = pd.DataFrame(loans_imp_iter, columns=numeric_cols.columns)\n",
    "print(loans_imp_iterDF.info())"
   ]
  },
  {
   "cell_type": "markdown",
   "metadata": {},
   "source": [
    "## Data distributions and transformations ?? \n",
    "\n",
    "Box-Cox Transformations    \n",
    "`scipy.stats.boxcox(data, lmbda= )`\n",
    "\n",
    "`lmbda` (p)| $$x^p$$| transform\n",
    ":-:|:-:|:-:\n",
    "-2| $$x^{-2} = \\frac{1}{x^2}$$| reciprocal square\n",
    "-1| $$x^{-1} = \\frac{1}{x}$$| reciprocal\n",
    "-0.5| $$x^{-\\frac{1}{2}} = \\frac{1}{\\sqrt{x}}$$| reciprocal square root\n",
    "0.0| log(x)| log\n",
    "0.5| $$x^{\\frac{1}{2}} = \\sqrt{x}$$|square root\n",
    "1| $$x$$| no transform\n",
    "2| $$x^2$$| square\n"
   ]
  },
  {
   "cell_type": "code",
   "execution_count": 45,
   "metadata": {
    "ExecuteTime": {
     "end_time": "2020-01-10T08:07:55.205312Z",
     "start_time": "2020-01-10T08:07:55.195317Z"
    },
    "collapsed": true
   },
   "outputs": [
    {
     "data": {
      "text/html": [
       "<video controls=\"\" preload=\"none\" width=\"900px\" height=\"600px\">\n",
       "    <source src=\"Data distributions and transformations Python.mp4\">\n",
       "</video>\n"
      ],
      "text/plain": [
       "<IPython.core.display.HTML object>"
      ]
     },
     "metadata": {},
     "output_type": "display_data"
    }
   ],
   "source": [
    "%%html\n",
    "<video controls=\"\" preload=\"none\" width=\"900px\" height=\"600px\">\n",
    "    <source src=\"Data distributions and transformations Python.mp4\">\n",
    "</video>"
   ]
  },
  {
   "cell_type": "code",
   "execution_count": 122,
   "metadata": {
    "ExecuteTime": {
     "end_time": "2020-01-12T13:07:54.546539Z",
     "start_time": "2020-01-12T13:07:54.277536Z"
    },
    "collapsed": true
   },
   "outputs": [
    {
     "name": "stdout",
     "output_type": "stream",
     "text": [
      " Volume in drive C is OSDisk\n",
      " Volume Serial Number is E022-8572\n",
      "\n",
      " Directory of C:\\Users\\wqiong\\Desktop\\Directory\\My_Ps\\ML_prep\n",
      "\n",
      "01/09/2020  02:33 PM            89,244 diabetes.csv\n",
      "01/09/2020  02:33 PM         7,835,622 loan_missing_filled.csv\n",
      "01/09/2020  02:34 PM         8,738,474 LoansTrainingSetReduced.csv\n",
      "               3 File(s)     16,663,340 bytes\n",
      "               0 Dir(s)  123,077,091,328 bytes free\n"
     ]
    }
   ],
   "source": [
    "%ls *.csv"
   ]
  },
  {
   "cell_type": "code",
   "execution_count": 125,
   "metadata": {
    "ExecuteTime": {
     "end_time": "2020-01-12T13:08:33.041538Z",
     "start_time": "2020-01-12T13:08:32.883551Z"
    },
    "collapsed": true
   },
   "outputs": [
    {
     "ename": "KeyError",
     "evalue": "'Loan Status'",
     "output_type": "error",
     "traceback": [
      "\u001b[1;31m---------------------------------------------------------------------------\u001b[0m",
      "\u001b[1;31mKeyError\u001b[0m                                  Traceback (most recent call last)",
      "\u001b[1;32mc:\\softwares\\anaconda3\\lib\\site-packages\\pandas\\core\\indexes\\base.py\u001b[0m in \u001b[0;36mget_loc\u001b[1;34m(self, key, method, tolerance)\u001b[0m\n\u001b[0;32m   2896\u001b[0m             \u001b[1;32mtry\u001b[0m\u001b[1;33m:\u001b[0m\u001b[1;33m\u001b[0m\u001b[1;33m\u001b[0m\u001b[0m\n\u001b[1;32m-> 2897\u001b[1;33m                 \u001b[1;32mreturn\u001b[0m \u001b[0mself\u001b[0m\u001b[1;33m.\u001b[0m\u001b[0m_engine\u001b[0m\u001b[1;33m.\u001b[0m\u001b[0mget_loc\u001b[0m\u001b[1;33m(\u001b[0m\u001b[0mkey\u001b[0m\u001b[1;33m)\u001b[0m\u001b[1;33m\u001b[0m\u001b[1;33m\u001b[0m\u001b[0m\n\u001b[0m\u001b[0;32m   2898\u001b[0m             \u001b[1;32mexcept\u001b[0m \u001b[0mKeyError\u001b[0m\u001b[1;33m:\u001b[0m\u001b[1;33m\u001b[0m\u001b[1;33m\u001b[0m\u001b[0m\n",
      "\u001b[1;32mpandas/_libs/index.pyx\u001b[0m in \u001b[0;36mpandas._libs.index.IndexEngine.get_loc\u001b[1;34m()\u001b[0m\n",
      "\u001b[1;32mpandas/_libs/index.pyx\u001b[0m in \u001b[0;36mpandas._libs.index.IndexEngine.get_loc\u001b[1;34m()\u001b[0m\n",
      "\u001b[1;32mpandas/_libs/hashtable_class_helper.pxi\u001b[0m in \u001b[0;36mpandas._libs.hashtable.PyObjectHashTable.get_item\u001b[1;34m()\u001b[0m\n",
      "\u001b[1;32mpandas/_libs/hashtable_class_helper.pxi\u001b[0m in \u001b[0;36mpandas._libs.hashtable.PyObjectHashTable.get_item\u001b[1;34m()\u001b[0m\n",
      "\u001b[1;31mKeyError\u001b[0m: 'Loan Status'",
      "\nDuring handling of the above exception, another exception occurred:\n",
      "\u001b[1;31mKeyError\u001b[0m                                  Traceback (most recent call last)",
      "\u001b[1;32m<ipython-input-125-e1c3d9db150e>\u001b[0m in \u001b[0;36m<module>\u001b[1;34m\u001b[0m\n\u001b[1;32m----> 1\u001b[1;33m \u001b[0mloan_data\u001b[0m\u001b[1;33m[\u001b[0m\u001b[1;34m'Loan Status'\u001b[0m\u001b[1;33m]\u001b[0m\u001b[1;33m.\u001b[0m\u001b[0mvalue_counts\u001b[0m\u001b[1;33m(\u001b[0m\u001b[1;33m)\u001b[0m\u001b[1;33m\u001b[0m\u001b[1;33m\u001b[0m\u001b[0m\n\u001b[0m",
      "\u001b[1;32mc:\\softwares\\anaconda3\\lib\\site-packages\\pandas\\core\\frame.py\u001b[0m in \u001b[0;36m__getitem__\u001b[1;34m(self, key)\u001b[0m\n\u001b[0;32m   2993\u001b[0m             \u001b[1;32mif\u001b[0m \u001b[0mself\u001b[0m\u001b[1;33m.\u001b[0m\u001b[0mcolumns\u001b[0m\u001b[1;33m.\u001b[0m\u001b[0mnlevels\u001b[0m \u001b[1;33m>\u001b[0m \u001b[1;36m1\u001b[0m\u001b[1;33m:\u001b[0m\u001b[1;33m\u001b[0m\u001b[1;33m\u001b[0m\u001b[0m\n\u001b[0;32m   2994\u001b[0m                 \u001b[1;32mreturn\u001b[0m \u001b[0mself\u001b[0m\u001b[1;33m.\u001b[0m\u001b[0m_getitem_multilevel\u001b[0m\u001b[1;33m(\u001b[0m\u001b[0mkey\u001b[0m\u001b[1;33m)\u001b[0m\u001b[1;33m\u001b[0m\u001b[1;33m\u001b[0m\u001b[0m\n\u001b[1;32m-> 2995\u001b[1;33m             \u001b[0mindexer\u001b[0m \u001b[1;33m=\u001b[0m \u001b[0mself\u001b[0m\u001b[1;33m.\u001b[0m\u001b[0mcolumns\u001b[0m\u001b[1;33m.\u001b[0m\u001b[0mget_loc\u001b[0m\u001b[1;33m(\u001b[0m\u001b[0mkey\u001b[0m\u001b[1;33m)\u001b[0m\u001b[1;33m\u001b[0m\u001b[1;33m\u001b[0m\u001b[0m\n\u001b[0m\u001b[0;32m   2996\u001b[0m             \u001b[1;32mif\u001b[0m \u001b[0mis_integer\u001b[0m\u001b[1;33m(\u001b[0m\u001b[0mindexer\u001b[0m\u001b[1;33m)\u001b[0m\u001b[1;33m:\u001b[0m\u001b[1;33m\u001b[0m\u001b[1;33m\u001b[0m\u001b[0m\n\u001b[0;32m   2997\u001b[0m                 \u001b[0mindexer\u001b[0m \u001b[1;33m=\u001b[0m \u001b[1;33m[\u001b[0m\u001b[0mindexer\u001b[0m\u001b[1;33m]\u001b[0m\u001b[1;33m\u001b[0m\u001b[1;33m\u001b[0m\u001b[0m\n",
      "\u001b[1;32mc:\\softwares\\anaconda3\\lib\\site-packages\\pandas\\core\\indexes\\base.py\u001b[0m in \u001b[0;36mget_loc\u001b[1;34m(self, key, method, tolerance)\u001b[0m\n\u001b[0;32m   2897\u001b[0m                 \u001b[1;32mreturn\u001b[0m \u001b[0mself\u001b[0m\u001b[1;33m.\u001b[0m\u001b[0m_engine\u001b[0m\u001b[1;33m.\u001b[0m\u001b[0mget_loc\u001b[0m\u001b[1;33m(\u001b[0m\u001b[0mkey\u001b[0m\u001b[1;33m)\u001b[0m\u001b[1;33m\u001b[0m\u001b[1;33m\u001b[0m\u001b[0m\n\u001b[0;32m   2898\u001b[0m             \u001b[1;32mexcept\u001b[0m \u001b[0mKeyError\u001b[0m\u001b[1;33m:\u001b[0m\u001b[1;33m\u001b[0m\u001b[1;33m\u001b[0m\u001b[0m\n\u001b[1;32m-> 2899\u001b[1;33m                 \u001b[1;32mreturn\u001b[0m \u001b[0mself\u001b[0m\u001b[1;33m.\u001b[0m\u001b[0m_engine\u001b[0m\u001b[1;33m.\u001b[0m\u001b[0mget_loc\u001b[0m\u001b[1;33m(\u001b[0m\u001b[0mself\u001b[0m\u001b[1;33m.\u001b[0m\u001b[0m_maybe_cast_indexer\u001b[0m\u001b[1;33m(\u001b[0m\u001b[0mkey\u001b[0m\u001b[1;33m)\u001b[0m\u001b[1;33m)\u001b[0m\u001b[1;33m\u001b[0m\u001b[1;33m\u001b[0m\u001b[0m\n\u001b[0m\u001b[0;32m   2900\u001b[0m         \u001b[0mindexer\u001b[0m \u001b[1;33m=\u001b[0m \u001b[0mself\u001b[0m\u001b[1;33m.\u001b[0m\u001b[0mget_indexer\u001b[0m\u001b[1;33m(\u001b[0m\u001b[1;33m[\u001b[0m\u001b[0mkey\u001b[0m\u001b[1;33m]\u001b[0m\u001b[1;33m,\u001b[0m \u001b[0mmethod\u001b[0m\u001b[1;33m=\u001b[0m\u001b[0mmethod\u001b[0m\u001b[1;33m,\u001b[0m \u001b[0mtolerance\u001b[0m\u001b[1;33m=\u001b[0m\u001b[0mtolerance\u001b[0m\u001b[1;33m)\u001b[0m\u001b[1;33m\u001b[0m\u001b[1;33m\u001b[0m\u001b[0m\n\u001b[0;32m   2901\u001b[0m         \u001b[1;32mif\u001b[0m \u001b[0mindexer\u001b[0m\u001b[1;33m.\u001b[0m\u001b[0mndim\u001b[0m \u001b[1;33m>\u001b[0m \u001b[1;36m1\u001b[0m \u001b[1;32mor\u001b[0m \u001b[0mindexer\u001b[0m\u001b[1;33m.\u001b[0m\u001b[0msize\u001b[0m \u001b[1;33m>\u001b[0m \u001b[1;36m1\u001b[0m\u001b[1;33m:\u001b[0m\u001b[1;33m\u001b[0m\u001b[1;33m\u001b[0m\u001b[0m\n",
      "\u001b[1;32mpandas/_libs/index.pyx\u001b[0m in \u001b[0;36mpandas._libs.index.IndexEngine.get_loc\u001b[1;34m()\u001b[0m\n",
      "\u001b[1;32mpandas/_libs/index.pyx\u001b[0m in \u001b[0;36mpandas._libs.index.IndexEngine.get_loc\u001b[1;34m()\u001b[0m\n",
      "\u001b[1;32mpandas/_libs/hashtable_class_helper.pxi\u001b[0m in \u001b[0;36mpandas._libs.hashtable.PyObjectHashTable.get_item\u001b[1;34m()\u001b[0m\n",
      "\u001b[1;32mpandas/_libs/hashtable_class_helper.pxi\u001b[0m in \u001b[0;36mpandas._libs.hashtable.PyObjectHashTable.get_item\u001b[1;34m()\u001b[0m\n",
      "\u001b[1;31mKeyError\u001b[0m: 'Loan Status'"
     ]
    }
   ],
   "source": [
    "loan_data['Loan Status'].value_counts()"
   ]
  },
  {
   "cell_type": "markdown",
   "metadata": {},
   "source": [
    "### Train/test distributions  `seaborn.pairplot()`"
   ]
  },
  {
   "cell_type": "code",
   "execution_count": 6,
   "metadata": {
    "ExecuteTime": {
     "end_time": "2020-01-13T00:48:32.094000Z",
     "start_time": "2020-01-13T00:48:24.951999Z"
    },
    "collapsed": true
   },
   "outputs": [
    {
     "name": "stdout",
     "output_type": "stream",
     "text": [
      "Fully Paid     44587\n",
      "Charged Off    17650\n",
      "Name: Loan Status, dtype: int64 \n",
      " Fully Paid     19150\n",
      "Charged Off     7523\n",
      "Name: Loan Status, dtype: int64\n"
     ]
    },
    {
     "name": "stderr",
     "output_type": "stream",
     "text": [
      "c:\\softwares\\anaconda3\\lib\\site-packages\\statsmodels\\nonparametric\\kde.py:447: RuntimeWarning: invalid value encountered in greater\n",
      "  X = X[np.logical_and(X > clip[0], X < clip[1])] # won't work for two columns.\n",
      "c:\\softwares\\anaconda3\\lib\\site-packages\\statsmodels\\nonparametric\\kde.py:447: RuntimeWarning: invalid value encountered in less\n",
      "  X = X[np.logical_and(X > clip[0], X < clip[1])] # won't work for two columns.\n"
     ]
    },
    {
     "data": {
      "text/plain": [
       "<seaborn.axisgrid.PairGrid at 0x276c3a72388>"
      ]
     },
     "execution_count": 6,
     "metadata": {},
     "output_type": "execute_result"
    },
    {
     "data": {
      "text/plain": [
       "<Figure size 432x288 with 0 Axes>"
      ]
     },
     "metadata": {},
     "output_type": "display_data"
    },
    {
     "data": {
      "image/png": "[encoded data removed]",
      "text/plain": [
       "<Figure size 672.5x576 with 6 Axes>"
      ]
     },
     "metadata": {
      "needs_background": "light"
     },
     "output_type": "display_data"
    },
    {
     "data": {
      "text/plain": [
       "<Figure size 432x288 with 0 Axes>"
      ]
     },
     "metadata": {},
     "output_type": "display_data"
    },
    {
     "data": {
      "image/png": "[encoded data removed]",
      "text/plain": [
       "<Figure size 672.5x576 with 6 Axes>"
      ]
     },
     "metadata": {
      "needs_background": "light"
     },
     "output_type": "display_data"
    }
   ],
   "source": [
    "from sklearn.model_selection import train_test_split\n",
    "\n",
    "loan_data_subset = loan_data[['Credit Score', 'Annual Income', 'Loan Status']]\n",
    "\n",
    "trainingSet, testSet = train_test_split(loan_data_subset,\n",
    "                                        # stratify=loan_data_subset['Loan Status'],\n",
    "                                        test_size=0.3,\n",
    "                                        random_state=123)\n",
    "\n",
    "print(trainingSet['Loan Status'].value_counts(),'\\n',\n",
    "      testSet['Loan Status'].value_counts())\n",
    "plt.figure()\n",
    "sns.pairplot(trainingSet,\n",
    "             hue='Loan Status',\n",
    "             height=4)\n",
    "\n",
    "plt.figure()\n",
    "sns.pairplot(testSet,\n",
    "             hue='Loan Status',\n",
    "             height=4)\n"
   ]
  },
  {
   "cell_type": "markdown",
   "metadata": {},
   "source": [
    "### Transformation  `scipy.stats.boxcox()`"
   ]
  },
  {
   "cell_type": "code",
   "execution_count": 79,
   "metadata": {
    "ExecuteTime": {
     "end_time": "2020-01-11T04:48:02.035928Z",
     "start_time": "2020-01-11T04:48:01.357938Z"
    },
    "collapsed": true
   },
   "outputs": [
    {
     "data": {
      "text/plain": [
       "<matplotlib.axes._subplots.AxesSubplot at 0x1852e7a1748>"
      ]
     },
     "execution_count": 79,
     "metadata": {},
     "output_type": "execute_result"
    },
    {
     "data": {
      "image/png": "[encoded data removed]",
      "text/plain": [
       "<Figure size 864x648 with 1 Axes>"
      ]
     },
     "metadata": {
      "needs_background": "light"
     },
     "output_type": "display_data"
    }
   ],
   "source": [
    "# Subset loan_data\n",
    "cr_yrs = loan_data['Years of Credit History']\n",
    "\n",
    "# Histogram and kernel density estimate\n",
    "plt.figure()\n",
    "sns.distplot(cr_yrs)"
   ]
  },
  {
   "cell_type": "code",
   "execution_count": 82,
   "metadata": {
    "ExecuteTime": {
     "end_time": "2020-01-11T04:52:34.822847Z",
     "start_time": "2020-01-11T04:52:33.917844Z"
    },
    "collapsed": true
   },
   "outputs": [
    {
     "data": {
      "text/plain": [
       "<matplotlib.axes._subplots.AxesSubplot at 0x185209f8548>"
      ]
     },
     "execution_count": 82,
     "metadata": {},
     "output_type": "execute_result"
    },
    {
     "data": {
      "image/png": "[encoded data removed]",
      "text/plain": [
       "<Figure size 864x648 with 1 Axes>"
      ]
     },
     "metadata": {
      "needs_background": "light"
     },
     "output_type": "display_data"
    }
   ],
   "source": [
    "from scipy.stats import boxcox\n",
    "\n",
    "cr_yrs = loan_data['Years of Credit History']\n",
    "\n",
    "# log transformation\n",
    "cr_yrs_log = boxcox(cr_yrs, lmbda=0)\n",
    "\n",
    "plt.figure()\n",
    "sns.distplot(cr_yrs_log)"
   ]
  },
  {
   "cell_type": "code",
   "execution_count": 84,
   "metadata": {
    "ExecuteTime": {
     "end_time": "2020-01-11T04:55:33.641828Z",
     "start_time": "2020-01-11T04:55:31.946213Z"
    },
    "collapsed": true
   },
   "outputs": [
    {
     "data": {
      "text/plain": [
       "<matplotlib.axes._subplots.AxesSubplot at 0x1851ae94948>"
      ]
     },
     "execution_count": 84,
     "metadata": {},
     "output_type": "execute_result"
    },
    {
     "data": {
      "image/png": "[encoded data removed]",
      "text/plain": [
       "<Figure size 864x648 with 1 Axes>"
      ]
     },
     "metadata": {
      "needs_background": "light"
     },
     "output_type": "display_data"
    }
   ],
   "source": [
    "cr_yrs = loan_data['Years of Credit History']\n",
    "\n",
    "# Square root transform\n",
    "cr_yrs_sqrt = boxcox(cr_yrs, lmbda=.5)\n",
    "\n",
    "plt.figure()\n",
    "sns.distplot(cr_yrs_sqrt)"
   ]
  },
  {
   "cell_type": "code",
   "execution_count": null,
   "metadata": {},
   "outputs": [],
   "source": []
  },
  {
   "cell_type": "code",
   "execution_count": null,
   "metadata": {},
   "outputs": [],
   "source": []
  },
  {
   "cell_type": "markdown",
   "metadata": {},
   "source": [
    "## Data outliers and scaling\n",
    "\n",
    "![](IQR.png)\n",
    "![](outliers.png)\n",
    "\n",
    "Function| Returns\n",
    ":-|:-\n",
    "sns.boxplot(x= , y='Loan Status')| boxplot conditioned on target variable\n",
    "sns.distplot()| histogram and kernel density estimate (kde)\n",
    "np.abs()| returns absolute value\n",
    "scipy.stats.zscore()| calculated z-score\n",
    "scipy.stats.mstats.winsorize(limits=[0.05, 0.05])| floor and ceiling applied to outliers\n",
    "np.where(condition, true, false)| replaced values\n",
    "\n",
    "**Standardization vs normalization:**\n",
    "+ Standardization:    \n",
    "$$z = \\frac{x_i - \\mu}{\\sigma}$$\n",
    "  + Z-score standardization\n",
    "  + Scales to mean 0 and sd 1    \n",
    "<br>\n",
    "+ Normalization:\n",
    "$$ z = \\frac{x - min(x)}{max(x) - min(x)} $$\n",
    "  + Min/max normalizing\n",
    "  + Scales to between (0, 1)\n",
    "\n",
    "**Scaling functions**\n",
    "+ `sklearn.preprocessing.StandardScaler()` --> (mean=0, sd=1)\n",
    "+ `sklearn.preprocessing.MinMaxScaler()` --> (0,1)    \n",
    "\n",
    "> How should outliers be identified and properly dealt with? What result does min/max or z-score standardization have on data? Select the statement that is true:    \n",
    "\n",
    "+ An outlier is a point that is just outside the range of similar points in a feature.\n",
    "+ **In a given context, outliers considered anomalous are helpful in building a predictive ML model.**\n",
    "+ Mix/max scaling gives data a mean of 0, an SD of 1, and increases variance.\n",
    "+ Z-score standardization scales data to be in the interval (0,1) and improves model ×t.\n",
    "\n",
    "![](preprocessing.png)"
   ]
  },
  {
   "cell_type": "markdown",
   "metadata": {},
   "source": [
    "### Outlier detection  `seaborn.boxplot()`"
   ]
  },
  {
   "cell_type": "code",
   "execution_count": 112,
   "metadata": {
    "ExecuteTime": {
     "end_time": "2020-01-12T12:31:00.306369Z",
     "start_time": "2020-01-12T12:30:59.172371Z"
    },
    "collapsed": true
   },
   "outputs": [
    {
     "data": {
      "image/png": "[encoded data removed]",
      "text/plain": [
       "<Figure size 864x648 with 2 Axes>"
      ]
     },
     "metadata": {
      "needs_background": "light"
     },
     "output_type": "display_data"
    }
   ],
   "source": [
    "# Import modules\n",
    "import matplotlib.pyplot as plt\n",
    "import seaborn as sns\n",
    "\n",
    "# Univariate and multivariate boxplots\n",
    "fig, ax = plt.subplots(1,2)\n",
    "sns.boxplot(y=loan_data['Annual Income'], ax=ax[0])\n",
    "sns.boxplot(x='Loan Status', y='Annual Income', data=loan_data, ax=ax[1])\n",
    "plt.show()"
   ]
  },
  {
   "cell_type": "code",
   "execution_count": 113,
   "metadata": {
    "ExecuteTime": {
     "end_time": "2020-01-12T12:45:08.801187Z",
     "start_time": "2020-01-12T12:45:08.198186Z"
    },
    "collapsed": true
   },
   "outputs": [
    {
     "data": {
      "image/png": "[encoded data removed]",
      "text/plain": [
       "<Figure size 864x648 with 2 Axes>"
      ]
     },
     "metadata": {
      "needs_background": "light"
     },
     "output_type": "display_data"
    }
   ],
   "source": [
    "# Multivariate boxplot\n",
    "fig, ax =plt.subplots(1,2)\n",
    "sns.boxplot(y=loan_data['Monthly Debt'], ax=ax[0])\n",
    "sns.boxplot(x='Loan Status', y='Monthly Debt', data=loan_data, ax=ax[1])\n",
    "plt.show()"
   ]
  },
  {
   "cell_type": "code",
   "execution_count": 115,
   "metadata": {
    "ExecuteTime": {
     "end_time": "2020-01-12T12:48:02.474124Z",
     "start_time": "2020-01-12T12:48:01.742129Z"
    },
    "collapsed": true
   },
   "outputs": [
    {
     "data": {
      "image/png": "[encoded data removed]",
      "text/plain": [
       "<Figure size 864x648 with 2 Axes>"
      ]
     },
     "metadata": {
      "needs_background": "light"
     },
     "output_type": "display_data"
    }
   ],
   "source": [
    "# Univariate and multivariate boxplots\n",
    "fig, ax =plt.subplots(1,2)\n",
    "sns.boxplot(y=loan_data['Years of Credit History'], ax=ax[0])\n",
    "sns.boxplot(x='Loan Status', y='Years of Credit History', data=loan_data, ax=ax[1])\n",
    "plt.show()"
   ]
  },
  {
   "cell_type": "markdown",
   "metadata": {},
   "source": [
    "### Handling outliers"
   ]
  },
  {
   "cell_type": "markdown",
   "metadata": {},
   "source": [
    "#### 3 standard deviation  `scipy.stats.zscore()`"
   ]
  },
  {
   "cell_type": "code",
   "execution_count": 19,
   "metadata": {
    "ExecuteTime": {
     "end_time": "2020-01-13T01:02:03.491891Z",
     "start_time": "2020-01-13T01:02:03.073898Z"
    },
    "collapsed": true
   },
   "outputs": [
    {
     "name": "stdout",
     "output_type": "stream",
     "text": [
      "Current Loan Amount             1.433878e+07\n",
      "Credit Score                    7.216020e+02\n",
      "Years in current job            5.721263e+00\n",
      "Annual Income                   7.234575e+04\n",
      "Monthly Debt                    9.631021e+02\n",
      "Years of Credit History         1.831531e+01\n",
      "Months since last delinquent    3.508029e+01\n",
      "Number of Open Accounts         1.111035e+01\n",
      "Number of Credit Problems       1.604769e-01\n",
      "Current Credit Balance          1.543593e+04\n",
      "Maximum Open Credit             3.356812e+04\n",
      "Bankruptcies                    1.126716e-01\n",
      "Tax Liens                       2.822209e-02\n",
      "dtype: float64\n",
      "Current Loan Amount             14355.000\n",
      "Credit Score                      730.000\n",
      "Years in current job                6.000\n",
      "Annual Income                   61494.000\n",
      "Monthly Debt                      843.925\n",
      "Years of Credit History            17.000\n",
      "Months since last delinquent       32.000\n",
      "Number of Open Accounts            10.000\n",
      "Number of Credit Problems           0.000\n",
      "Current Credit Balance          11039.000\n",
      "Maximum Open Credit             21780.500\n",
      "Bankruptcies                        0.000\n",
      "Tax Liens                           0.000\n",
      "dtype: float64\n",
      "Current Loan Amount             99999999.00\n",
      "Credit Score                         751.00\n",
      "Years in current job                  10.00\n",
      "Annual Income                    8713547.00\n",
      "Monthly Debt                       22939.12\n",
      "Years of Credit History               70.50\n",
      "Months since last delinquent         176.00\n",
      "Number of Open Accounts               76.00\n",
      "Number of Credit Problems             15.00\n",
      "Current Credit Balance           1730472.00\n",
      "Maximum Open Credit             69988086.00\n",
      "Bankruptcies                           7.00\n",
      "Tax Liens                             15.00\n",
      "dtype: float64\n",
      "Current Loan Amount             1.424418e+07\n",
      "Credit Score                    7.229790e+02\n",
      "Years in current job            5.706259e+00\n",
      "Annual Income                   6.820851e+04\n",
      "Monthly Debt                    9.085151e+02\n",
      "Years of Credit History         1.786037e+01\n",
      "Months since last delinquent    3.553351e+01\n",
      "Number of Open Accounts         1.081843e+01\n",
      "Number of Credit Problems       1.113385e-01\n",
      "Current Credit Balance          1.378454e+04\n",
      "Maximum Open Credit             2.753209e+04\n",
      "Bankruptcies                    9.991955e-02\n",
      "Tax Liens                       8.176007e-06\n",
      "dtype: float64\n",
      "Current Loan Amount             13944.000000\n",
      "Credit Score                      729.000000\n",
      "Years in current job                6.000000\n",
      "Annual Income                   61479.000000\n",
      "Monthly Debt                      822.470000\n",
      "Years of Credit History            16.800000\n",
      "Months since last delinquent       34.241537\n",
      "Number of Open Accounts            10.000000\n",
      "Number of Credit Problems           0.000000\n",
      "Current Credit Balance          10800.000000\n",
      "Maximum Open Credit             21309.000000\n",
      "Bankruptcies                        0.000000\n",
      "Tax Liens                           0.000000\n",
      "dtype: float64\n",
      "Current Loan Amount             1.000000e+08\n",
      "Credit Score                    8.035336e+02\n",
      "Years in current job            1.000000e+01\n",
      "Annual Income                   2.472500e+05\n",
      "Monthly Debt                    2.875310e+03\n",
      "Years of Credit History         3.940000e+01\n",
      "Months since last delinquent    1.017181e+02\n",
      "Number of Open Accounts         2.600000e+01\n",
      "Number of Credit Problems       1.000000e+00\n",
      "Current Credit Balance          7.440700e+04\n",
      "Maximum Open Credit             8.163260e+05\n",
      "Bankruptcies                    1.000000e+00\n",
      "Tax Liens                       5.116165e-01\n",
      "dtype: float64\n"
     ]
    }
   ],
   "source": [
    "# Print: before dropping\n",
    "print(numeric_cols.mean())\n",
    "print(numeric_cols.median())\n",
    "print(numeric_cols.max())\n",
    "\n",
    "# Create index of rows to keep, loans_imp_iterDF missing values are filled\n",
    "idx = (np.abs(ss.zscore(loans_imp_iterDF)) < 3).all(axis=1)\n",
    "\n",
    "# Concatenate numeric and categoric subsets\n",
    "ld_out_drop = pd.concat([loans_imp_iterDF.loc[idx], categoric_cols.loc[idx]], axis=1)\n",
    "\n",
    "# Print: after dropping\n",
    "print(ld_out_drop[numeric_cols.columns].mean())\n",
    "print(ld_out_drop[numeric_cols.columns].median())\n",
    "print(ld_out_drop[numeric_cols.columns].max())"
   ]
  },
  {
   "cell_type": "markdown",
   "metadata": {
    "ExecuteTime": {
     "end_time": "2020-01-13T00:51:21.607413Z",
     "start_time": "2020-01-13T00:51:21.586412Z"
    }
   },
   "source": [
    "#### winsorize 盖帽法  `scipy.stats.mstats.winsorize()`"
   ]
  },
  {
   "cell_type": "code",
   "execution_count": 22,
   "metadata": {
    "ExecuteTime": {
     "end_time": "2020-01-13T01:42:34.195180Z",
     "start_time": "2020-01-13T01:42:34.146179Z"
    },
    "collapsed": true
   },
   "outputs": [
    {
     "name": "stdout",
     "output_type": "stream",
     "text": [
      "963.1020592734226\n",
      "843.925\n",
      "22939.12\n",
      "Monthly Debt    935.371257\n",
      "dtype: float64\n",
      "Monthly Debt    843.925\n",
      "dtype: float64\n",
      "Monthly Debt    2115.52\n",
      "dtype: float64\n"
     ]
    }
   ],
   "source": [
    "# Print: before winsorize\n",
    "print((loan_data['Monthly Debt']).mean())\n",
    "print((loan_data['Monthly Debt']).median())\n",
    "print((loan_data['Monthly Debt']).max())\n",
    "\n",
    "# Winsorize numeric columns\n",
    "debt_win = ss.mstats.winsorize(loan_data['Monthly Debt'], limits=[.05, .05])\n",
    "\n",
    "# Convert to DataFrame, reassign column name\n",
    "debt_out = pd.DataFrame(debt_win, columns=['Monthly Debt'])\n",
    "\n",
    "# Print: after winsorize\n",
    "print(debt_out.mean())\n",
    "print(debt_out.median())\n",
    "print(debt_out.max())"
   ]
  },
  {
   "cell_type": "markdown",
   "metadata": {
    "ExecuteTime": {
     "end_time": "2020-01-13T00:59:06.687229Z",
     "start_time": "2020-01-13T00:59:06.578228Z"
    }
   },
   "source": [
    "#### replacement  `numpy.where(conditions, true, false)`"
   ]
  },
  {
   "cell_type": "code",
   "execution_count": 24,
   "metadata": {
    "ExecuteTime": {
     "end_time": "2020-01-13T02:16:08.988369Z",
     "start_time": "2020-01-13T02:16:08.950366Z"
    },
    "collapsed": true
   },
   "outputs": [
    {
     "name": "stdout",
     "output_type": "stream",
     "text": [
      "866.8290722078505\n",
      "811.51\n",
      "2119.72\n",
      "866.8290722078505\n",
      "811.51\n",
      "2119.72\n"
     ]
    }
   ],
   "source": [
    "# Print: before replace with median\n",
    "print((loan_data['Monthly Debt']).mean())\n",
    "print((loan_data['Monthly Debt']).median())\n",
    "print((loan_data['Monthly Debt']).max())\n",
    "\n",
    "'''Find the median of the values of Monthly Debt that \n",
    "are lower than 2120 and replace outliers with it.'''\n",
    "median = loan_data.loc[loan_data['Monthly Debt'] < 2120, 'Monthly Debt'].median()\n",
    "loan_data['Monthly Debt'] = np.where(loan_data['Monthly Debt'] > 2120, median, loan_data['Monthly Debt'])\n",
    "\n",
    "print((loan_data['Monthly Debt']).mean())\n",
    "print((loan_data['Monthly Debt']).median())\n",
    "print((loan_data['Monthly Debt']).max())"
   ]
  },
  {
   "cell_type": "code",
   "execution_count": null,
   "metadata": {},
   "outputs": [],
   "source": []
  },
  {
   "cell_type": "markdown",
   "metadata": {},
   "source": [
    "### Z-score standardization  `sklearn.preprocessing.StandardScaler().fit_transform()`"
   ]
  },
  {
   "cell_type": "code",
   "execution_count": 26,
   "metadata": {
    "ExecuteTime": {
     "end_time": "2020-01-13T02:31:51.308268Z",
     "start_time": "2020-01-13T02:31:51.144265Z"
    }
   },
   "outputs": [],
   "source": [
    "# Subset features\n",
    "numeric_cols = loan_data.select_dtypes(include=[np.number])\n",
    "categoric_cols = loan_data.select_dtypes(include=['object'])\n",
    "\n",
    "scaler = sk.preprocessing.StandardScaler()\n",
    "\n",
    "numeric_cols_scaled = scaler.fit_transform(numeric_cols)\n",
    "numeric_cols_scaledDF = pd.DataFrame(numeric_cols_scaled, columns=numeric_cols.columns)\n",
    "\n",
    "final_DF = pd.concat([numeric_cols_scaledDF, categoric_cols], axis=1)"
   ]
  },
  {
   "cell_type": "code",
   "execution_count": null,
   "metadata": {},
   "outputs": [],
   "source": []
  },
  {
   "cell_type": "markdown",
   "metadata": {},
   "source": [
    "# Supervised Learning"
   ]
  },
  {
   "cell_type": "markdown",
   "metadata": {},
   "source": [
    "## Regression: feature selection"
   ]
  },
  {
   "cell_type": "code",
   "execution_count": 27,
   "metadata": {
    "ExecuteTime": {
     "end_time": "2020-01-13T02:54:16.223956Z",
     "start_time": "2020-01-13T02:54:16.215944Z"
    },
    "collapsed": true
   },
   "outputs": [
    {
     "data": {
      "text/html": [
       "<video controls=\"\" preload=\"none\" width=\"900px\" height=\"600px\">\n",
       "    <source src=\"Regression feature selection Python.mp4\">\n",
       "</video>\n"
      ],
      "text/plain": [
       "<IPython.core.display.HTML object>"
      ]
     },
     "metadata": {},
     "output_type": "display_data"
    }
   ],
   "source": [
    "%%html\n",
    "<video controls=\"\" preload=\"none\" width=\"900px\" height=\"600px\">\n",
    "    <source src=\"Regression feature selection Python.mp4\">\n",
    "</video>"
   ]
  },
  {
   "cell_type": "markdown",
   "metadata": {},
   "source": [
    "Selecting the correct features\n",
    "+ Reduces overfitting\n",
    "+ Improves accuracy\n",
    "+ Increases interpretability\n",
    "+ Reduces training time\n",
    "\n",
    "Feature selection methods\n",
    "+ Filter: Rank features based on statistical performance\n",
    "+ Wrapper: Use an ML method to evaluate performance\n",
    "+ Embedded: Iterative model training to extract features\n",
    "+ Feature importance: tree-based ML models"
   ]
  },
  {
   "cell_type": "markdown",
   "metadata": {},
   "source": [
    "**Compare and contrast methods**\n",
    "\n",
    "Method| Use an ML model| Select best subset| Can overfit\n",
    ":-|:-|:-|:-\n",
    "**Filter**| No| No| No\n",
    "**Wrapper 封装**| Yes| Yes| Sometimes\n",
    "**Embedded 嵌入**| Yes| Yes| Yes\n",
    "**Feature importance**| Yes| Yes| Yes\n",
    "\n",
    "　　Correlation coefficient statistical tests\n",
    "\n",
    "Feature/Response| Continuous| Categorical\n",
    ":-|:-|:-\n",
    "Continuous| Pearson's Correlation| LDA\n",
    "Categorical| ANOVA| Chi-Square\n",
    "\n",
    "1. Filter functions\n",
    "\n",
    "Function| Returns\n",
    ":-|:-\n",
    "**`df.corr()`**| Pearson's correlation matrix\n",
    "**`sns.heatmap(corr_object)`**| heatmap plot\n",
    "**`numpy.abs()`**| absolute value\n",
    "\n",
    "2. Wrapper methods\n",
    "  + Forward selection (LARS-least angle regression)\n",
    "    + Starts with no features, adds one at a time based on their model contribution\n",
    "  + Backward elimination\n",
    "    + Starts with all features, eliminates one at a time based on the least contribution in a given step\n",
    "  + Forward selection/backward elimination combination (bidirectional elimination)\n",
    "  + Recursive feature elimination RFECV\n",
    "\n",
    "3. Embedded methods\n",
    "  + Lasso Regression\n",
    "  + Ridge Regression\n",
    "  + ElasticNet\n",
    "![](embeded.png)\n",
    "\n",
    "\n",
    "4. Tree-based feature importance methods\n",
    "  + Random Forest --> `sklearn.ensemble.RandomForestRegressor()`\n",
    "  + Extra Trees --> `sklearn.ensemble.ExtraTreesRegressor()`\n",
    "  + After model fit --> `tree_mod.feature_importances_`\n",
    "\n",
    "Function| Returns\n",
    ":-|:-\n",
    "sklearn.svm.SVR| support vector regression estimator\n",
    "sklearn.feature_selection.RFECV| recursive feature elimination with cross-val\n",
    "rfe_mod.support_| boolean array of selected features\n",
    "ref_mod.ranking_| feature ranking, selected=1\n",
    "sklearn.linear_model.LinearRegression| linear model estimator\n",
    "sklearn.linear_model.LarsCV| least angle regression with cross-val\n",
    "LarsCV.score| r-squared score\n",
    "LarsCV.alpha_| estimated regularization parameter"
   ]
  },
  {
   "cell_type": "code",
   "execution_count": null,
   "metadata": {
    "ExecuteTime": {
     "end_time": "2020-01-13T06:32:45.390349Z",
     "start_time": "2020-01-13T06:32:45.380349Z"
    }
   },
   "outputs": [],
   "source": []
  },
  {
   "cell_type": "markdown",
   "metadata": {
    "ExecuteTime": {
     "end_time": "2020-01-13T03:45:33.595856Z",
     "start_time": "2020-01-13T03:45:33.584869Z"
    }
   },
   "source": [
    "Best feature subset\n",
    "\n",
    ">How do you select the optimal subset of independent variables in a regression model?    \n",
    "　　As a reminder, filter methods rank features based on their statistical performance while wrapper, embedded and tree-based methods use a machine learning model to evaluate performance.    \n",
    "　　Select the statement that is true: 3\n",
    "\n",
    "+ Filter methods, which use an ML model, rank features by correlation with the target variable and always provide the best subset.\n",
    "\n",
    "+ Wrapper methods use an iterative process with a machine learning algorithm to evaluate performance but do not always provide the best subset.\n",
    "\n",
    "+ ***Embedded methods, such as Lasso and Ridge Regression, are regularization methods that extract features that contribute the most during a given iteration and provide the best subset dependent on the penalty parameter.***\n",
    "\n",
    "+ Feature importance methods use an ML model such as SVR or LARS to provide the best subset.\n"
   ]
  },
  {
   "cell_type": "code",
   "execution_count": 68,
   "metadata": {
    "ExecuteTime": {
     "end_time": "2020-01-13T07:39:45.641417Z",
     "start_time": "2020-01-13T07:39:45.615418Z"
    },
    "collapsed": true
   },
   "outputs": [
    {
     "name": "stdout",
     "output_type": "stream",
     "text": [
      "<class 'pandas.core.frame.DataFrame'>\n",
      "RangeIndex: 442 entries, 0 to 441\n",
      "Data columns (total 11 columns):\n",
      "age            442 non-null float64\n",
      "sex            442 non-null float64\n",
      "bmi            442 non-null float64\n",
      "bp             442 non-null float64\n",
      "s1             442 non-null float64\n",
      "s2             442 non-null float64\n",
      "s3             442 non-null float64\n",
      "s4             442 non-null float64\n",
      "s5             442 non-null float64\n",
      "s6             442 non-null float64\n",
      "progression    442 non-null float64\n",
      "dtypes: float64(11)\n",
      "memory usage: 38.1 KB\n"
     ]
    }
   ],
   "source": [
    "diabetes = pd.read_csv('diabetes.csv')\n",
    "diabetes.info()"
   ]
  },
  {
   "cell_type": "code",
   "execution_count": 66,
   "metadata": {
    "ExecuteTime": {
     "end_time": "2020-01-13T07:37:06.128842Z",
     "start_time": "2020-01-13T07:37:06.118846Z"
    }
   },
   "outputs": [],
   "source": [
    "# ~ 取非\n",
    "X = diabetes.loc[:, diabetes.columns[~(diabetes.columns == 'progression')]]\n",
    "y = diabetes.loc[:, 'progression']"
   ]
  },
  {
   "cell_type": "markdown",
   "metadata": {},
   "source": [
    "### Filter and wrapper methods"
   ]
  },
  {
   "cell_type": "code",
   "execution_count": 47,
   "metadata": {
    "ExecuteTime": {
     "end_time": "2020-01-13T07:10:26.808029Z",
     "start_time": "2020-01-13T07:10:25.204029Z"
    },
    "collapsed": true
   },
   "outputs": [
    {
     "name": "stdout",
     "output_type": "stream",
     "text": [
      "                  age       sex       bmi        bp        s1        s2  \\\n",
      "age          1.000000  0.173737  0.185085  0.335427  0.260061  0.219243   \n",
      "sex          0.173737  1.000000  0.088161  0.241013  0.035277  0.142637   \n",
      "bmi          0.185085  0.088161  1.000000  0.395415  0.249777  0.261170   \n",
      "bp           0.335427  0.241013  0.395415  1.000000  0.242470  0.185558   \n",
      "s1           0.260061  0.035277  0.249777  0.242470  1.000000  0.896663   \n",
      "s2           0.219243  0.142637  0.261170  0.185558  0.896663  1.000000   \n",
      "s3          -0.075181 -0.379090 -0.366811 -0.178761  0.051519 -0.196455   \n",
      "s4           0.203841  0.332115  0.413807  0.257653  0.542207  0.659817   \n",
      "s5           0.270777  0.149918  0.446159  0.393478  0.515501  0.318353   \n",
      "s6           0.301731  0.208133  0.388680  0.390429  0.325717  0.290600   \n",
      "progression  0.187889  0.043062  0.586450  0.441484  0.212022  0.174054   \n",
      "\n",
      "                   s3        s4        s5        s6  progression  \n",
      "age         -0.075181  0.203841  0.270777  0.301731     0.187889  \n",
      "sex         -0.379090  0.332115  0.149918  0.208133     0.043062  \n",
      "bmi         -0.366811  0.413807  0.446159  0.388680     0.586450  \n",
      "bp          -0.178761  0.257653  0.393478  0.390429     0.441484  \n",
      "s1           0.051519  0.542207  0.515501  0.325717     0.212022  \n",
      "s2          -0.196455  0.659817  0.318353  0.290600     0.174054  \n",
      "s3           1.000000 -0.738493 -0.398577 -0.273697    -0.394789  \n",
      "s4          -0.738493  1.000000  0.617857  0.417212     0.430453  \n",
      "s5          -0.398577  0.617857  1.000000  0.464670     0.565883  \n",
      "s6          -0.273697  0.417212  0.464670  1.000000     0.382483  \n",
      "progression -0.394789  0.430453  0.565883  0.382483     1.000000  \n"
     ]
    },
    {
     "data": {
      "image/png": "[encoded data removed]",
      "text/plain": [
       "<Figure size 648x432 with 2 Axes>"
      ]
     },
     "metadata": {
      "needs_background": "light"
     },
     "output_type": "display_data"
    },
    {
     "name": "stdout",
     "output_type": "stream",
     "text": [
      "bmi            0.586450\n",
      "s5             0.565883\n",
      "progression    1.000000\n",
      "Name: progression, dtype: float64\n"
     ]
    }
   ],
   "source": [
    "# Create correlation matrix and print it\n",
    "cor = diabetes.corr()\n",
    "print(cor)\n",
    "\n",
    "# Correlation matrix heatmap\n",
    "plt.figure(figsize=(9,6))\n",
    "sns.heatmap(cor, annot=True, cmap=plt.cm.Reds)\n",
    "plt.show()\n",
    "\n",
    "# Correlation with output/target variable\n",
    "cor_target = abs(cor[\"progression\"])\n",
    "\n",
    "# Selecting highly correlated features\n",
    "best_features = cor_target[cor_target > 0.5]\n",
    "print(best_features)"
   ]
  },
  {
   "cell_type": "code",
   "execution_count": 64,
   "metadata": {
    "ExecuteTime": {
     "end_time": "2020-01-13T07:29:41.601352Z",
     "start_time": "2020-01-13T07:29:40.990709Z"
    },
    "collapsed": true
   },
   "outputs": [
    {
     "name": "stdout",
     "output_type": "stream",
     "text": [
      "[ True False  True  True  True  True  True  True  True  True]\n",
      "[1 2 1 1 1 1 1 1 1 1]\n",
      "Index(['age', 'sex', 'bmi', 'bp', 's1', 's2', 's3', 's4', 's5', 's6'], dtype='object')\n"
     ]
    }
   ],
   "source": [
    "from sklearn.svm import SVR\n",
    "from sklearn.feature_selection import RFECV\n",
    "\n",
    "# Instantiate estimator and feature selector\n",
    "svr_mod = SVR(kernel=\"linear\")\n",
    "feat_selector = RFECV(svr_mod, cv=5)\n",
    "\n",
    "# Fit\n",
    "feat_selector = feat_selector.fit(X, y)\n",
    "\n",
    "# Print support and ranking\n",
    "print(feat_selector.support_)\n",
    "print(feat_selector.ranking_)\n",
    "print(X.columns)"
   ]
  },
  {
   "cell_type": "code",
   "execution_count": 67,
   "metadata": {
    "ExecuteTime": {
     "end_time": "2020-01-13T07:37:10.133810Z",
     "start_time": "2020-01-13T07:37:10.026817Z"
    },
    "collapsed": true
   },
   "outputs": [
    {
     "name": "stdout",
     "output_type": "stream",
     "text": [
      "0.4982900996498095\n",
      "0.05226862285159276\n"
     ]
    }
   ],
   "source": [
    "from sklearn.linear_model import LarsCV\n",
    "\n",
    "# Drop feature suggested not important in step 2\n",
    "Xd = X.drop('sex', axis=1)\n",
    "\n",
    "# Instantiate\n",
    "lars_mod = LarsCV(cv=5, normalize=False)\n",
    "\n",
    "# Fit\n",
    "feat_selector = lars_mod.fit(Xd, y)\n",
    "\n",
    "# Print r-squared score and estimated alpha\n",
    "print(lars_mod.score(Xd, y))\n",
    "print(lars_mod.alpha_)"
   ]
  },
  {
   "cell_type": "markdown",
   "metadata": {},
   "source": [
    "### Feature selection through feature importance"
   ]
  },
  {
   "cell_type": "code",
   "execution_count": 72,
   "metadata": {
    "ExecuteTime": {
     "end_time": "2020-01-13T07:42:48.363996Z",
     "start_time": "2020-01-13T07:42:47.902997Z"
    }
   },
   "outputs": [
    {
     "name": "stdout",
     "output_type": "stream",
     "text": [
      "Index(['age', 'sex', 'bmi', 'bp', 's1', 's2', 's3', 's4', 's5', 's6',\n",
      "       'progression'],\n",
      "      dtype='object')\n",
      "[0.         0.         0.39961579 0.03085607 0.         0.00128948\n",
      " 0.00700339 0.00417891 0.53899467 0.01806168]\n"
     ]
    }
   ],
   "source": [
    "from sklearn.ensemble import RandomForestRegressor\n",
    "\n",
    "# Instantiate\n",
    "rf_mod = RandomForestRegressor(max_depth=2, random_state=123, \n",
    "              n_estimators=100, oob_score=True)\n",
    "rf_mod.fit(X, y)\n",
    "\n",
    "print(diabetes.columns)\n",
    "print(rf_mod.feature_importances_)"
   ]
  },
  {
   "cell_type": "code",
   "execution_count": 73,
   "metadata": {
    "ExecuteTime": {
     "end_time": "2020-01-13T07:52:23.795265Z",
     "start_time": "2020-01-13T07:52:23.726268Z"
    },
    "collapsed": true
   },
   "outputs": [
    {
     "name": "stdout",
     "output_type": "stream",
     "text": [
      "Index(['age', 'sex', 'bmi', 'bp', 's1', 's2', 's3', 's4', 's5', 's6',\n",
      "       'progression'],\n",
      "      dtype='object')\n",
      "[0.06618138 0.03700392 0.29440454 0.11599682 0.04422952 0.05010937\n",
      " 0.05772512 0.08947737 0.1669841  0.07788785]\n"
     ]
    },
    {
     "name": "stderr",
     "output_type": "stream",
     "text": [
      "c:\\softwares\\anaconda3\\lib\\site-packages\\sklearn\\ensemble\\forest.py:245: FutureWarning: The default value of n_estimators will change from 10 in version 0.20 to 100 in 0.22.\n",
      "  \"10 in version 0.20 to 100 in 0.22.\", FutureWarning)\n"
     ]
    }
   ],
   "source": [
    "from sklearn.ensemble import ExtraTreesRegressor\n",
    "\n",
    "# Instantiate\n",
    "xt_mod = ExtraTreesRegressor()\n",
    "xt_mod.fit(X, y)\n",
    "\n",
    "print(diabetes.columns)\n",
    "print(xt_mod.feature_importances_)"
   ]
  },
  {
   "cell_type": "code",
   "execution_count": null,
   "metadata": {},
   "outputs": [],
   "source": []
  },
  {
   "cell_type": "code",
   "execution_count": null,
   "metadata": {},
   "outputs": [],
   "source": []
  },
  {
   "cell_type": "markdown",
   "metadata": {},
   "source": [
    "## Regression: regularization\n",
    "Ordinary least squares\n",
    "$$ \\sum_{i=1}^n (y_i - \\hat{y_i})^2 $$\n",
    "\n",
    "+ Ridge regression\n",
    "$$ \\sum_{i=1}^n (y_i - \\hat{y_i})^2 + \\lambda \\sum_{j=1}^p \\beta_j^2 $$\n",
    "+ Lasso regression\n",
    "$$ \\sum_{i=1}^n (y_i - \\hat{y_i})^2 + \\lambda \\sum_{j=1}^p \\left|\\beta_j \\right |$$\n",
    "+ ElasticNet regression\n",
    "$$ \\sum_{i=1}^n (y_i - \\hat{y_i})^2 + \\lambda \\left( (1-\\alpha) \\sum_{j=1}^p \\left|\\beta_j \\right | + \\alpha \\sum_{j=1}^p \\beta_j^2 \\right)$$\n",
    "\n",
    "![](ridge.png)\n",
    "![](lasso.png)\n",
    "\n",
    "Regularization| L1 (Lasso)| L2 (Ridge)\n",
    ":-|:-|:-\n",
    "penalizes| sum of absolute value of coefficients| sum of squares of coefficients\n",
    "solutions| sparse| non-sparse\n",
    "number of solutions| multiple| one\n",
    "feature selection| yes| no\n",
    "robust to outliers?| yes| no\n",
    "complex patterns?| no| yes\n",
    "\n",
    "\n",
    "Regularization functions\n",
    "```python\n",
    "# Lasso estimator\n",
    "sklearn.linear_model.Lasso\n",
    "# Lasso estimator with cross-validation\n",
    "sklearn.linear_model.LassoCV\n",
    "# Ridge estimator\n",
    "sklearn.linear_model.Ridge\n",
    "# Ridge estimator with cross-validation\n",
    "sklearn.linear_model.RidgeCV\n",
    "# ElasticNet estimator\n",
    "sklearn.linear_model.ElasticNet\n",
    "\n",
    "\n",
    "# ElasticNet estimator with cross-validation\n",
    "sklearn.linear_model.ElasticNetCV\n",
    "# Train/test split\n",
    "sklearn.model_selection.train_test_split\n",
    "# Mean squared error\n",
    "sklearn.metrics.mean_squared_error(y_test,\n",
    "predict(X_test))\n",
    "# Best regularization parameter\n",
    "mod_cv.alpha_\n",
    "# Array of log values\n",
    "alphas=np.logspace(-6, 6, 13)\n",
    "```"
   ]
  },
  {
   "cell_type": "code",
   "execution_count": 75,
   "metadata": {
    "ExecuteTime": {
     "end_time": "2020-01-13T08:10:41.244182Z",
     "start_time": "2020-01-13T08:10:41.235179Z"
    },
    "collapsed": true
   },
   "outputs": [
    {
     "data": {
      "text/html": [
       "<video controls=\"\" preload=\"none\" width=\"900px\" height=\"600px\">\n",
       "    <source src=\"Regression regularization Python.mp4\">\n",
       "</video>\n"
      ],
      "text/plain": [
       "<IPython.core.display.HTML object>"
      ]
     },
     "metadata": {},
     "output_type": "display_data"
    }
   ],
   "source": [
    "%%html\n",
    "<video controls=\"\" preload=\"none\" width=\"900px\" height=\"600px\">\n",
    "    <source src=\"Regression regularization Python.mp4\">\n",
    "</video>"
   ]
  },
  {
   "cell_type": "markdown",
   "metadata": {},
   "source": [
    "Avoiding overfitting\n",
    "\n",
    ">What techniques can be used to ensure you’re not overfitting the dataset for a regression model?\n",
    "Select the answer that is true:\n",
    "\n",
    "+ Perform Ridge regression which uses L2-norm regularization which adds a penalty term composed of the penalty parameter alpha multiplied by the sum of the absolute values of the coefficients.\n",
    "+ Perform Lasso regression which uses L1-ratio regularization which adds a penalty term composed of the penalty parameter alpha multiplied by the sum of the squared coefficients.\n",
    "+ Perform ElasticNet regression which uses L1-norm regularization which adds a penalty terms composed of the penalty parameter alpha multiplied by the sum of the L1 and L2 norms.\n",
    "+ ***Perform ElasticNet regression which uses L1-ratio regularization which is a combination of L1 and L2.***"
   ]
  },
  {
   "cell_type": "markdown",
   "metadata": {},
   "source": [
    "### Lasso regularization"
   ]
  },
  {
   "cell_type": "code",
   "execution_count": 85,
   "metadata": {
    "ExecuteTime": {
     "end_time": "2020-01-13T09:05:43.360240Z",
     "start_time": "2020-01-13T09:05:42.888241Z"
    }
   },
   "outputs": [
    {
     "name": "stdout",
     "output_type": "stream",
     "text": [
      "2924.5859832897386\n"
     ]
    }
   ],
   "source": [
    "from sklearn.linear_model import Lasso, LassoCV\n",
    "from sklearn.metrics import mean_squared_error\n",
    "\n",
    "X_train, X_test, y_train, y_test = train_test_split(X, y, random_state=123, test_size=0.3)\n",
    "\n",
    "# Instantiate cross-validated lasso, fit\n",
    "lasso_cv = LassoCV(alphas=None, cv=10, max_iter=10000)\n",
    "lasso_cv.fit(X_train, y_train)\n",
    "\n",
    "# Instantiate lasso, fit, predict and print MSE\n",
    "lasso = Lasso(alpha = lasso_cv.alpha_)\n",
    "lasso.fit(X_train, y_train)\n",
    "print(mean_squared_error(y_true=y_test, y_pred=lasso.predict(X_test)))"
   ]
  },
  {
   "cell_type": "code",
   "execution_count": 83,
   "metadata": {
    "ExecuteTime": {
     "end_time": "2020-01-13T09:02:45.287215Z",
     "start_time": "2020-01-13T09:02:45.281215Z"
    }
   },
   "outputs": [
    {
     "name": "stdout",
     "output_type": "stream",
     "text": [
      "0.0022092947437336837\n"
     ]
    }
   ],
   "source": [
    "print(lasso_cv.alpha_)"
   ]
  },
  {
   "cell_type": "markdown",
   "metadata": {},
   "source": [
    "### Ridge regularization"
   ]
  },
  {
   "cell_type": "code",
   "execution_count": 88,
   "metadata": {
    "ExecuteTime": {
     "end_time": "2020-01-13T09:15:43.714055Z",
     "start_time": "2020-01-13T09:15:43.682051Z"
    }
   },
   "outputs": [
    {
     "name": "stdout",
     "output_type": "stream",
     "text": [
      "2970.874355984402\n"
     ]
    }
   ],
   "source": [
    "from sklearn.linear_model import Ridge, RidgeCV\n",
    "from sklearn.metrics import mean_squared_error\n",
    "\n",
    "X_train, X_test, y_train, y_test = train_test_split(X, y, random_state=123, test_size=0.3)\n",
    "\n",
    "# Instantiate cross-validated Ridge, fit\n",
    "ridge_cv = RidgeCV(alphas=np.logspace(-6, 6, 13))\n",
    "ridge_cv.fit(X_train, y_train)\n",
    "\n",
    "# Instantiate Ridge, fit, predict and print MSE\n",
    "ridge = Ridge(alpha = ridge_cv.alpha_)\n",
    "ridge.fit(X_train, y_train)\n",
    "print(mean_squared_error(y_true=y_test, y_pred=ridge.predict(X_test)))"
   ]
  },
  {
   "cell_type": "code",
   "execution_count": null,
   "metadata": {},
   "outputs": [],
   "source": []
  },
  {
   "cell_type": "markdown",
   "metadata": {},
   "source": [
    "## Classification: feature engineering"
   ]
  },
  {
   "cell_type": "code",
   "execution_count": null,
   "metadata": {},
   "outputs": [],
   "source": [
    "%%html\n",
    "<video controls=\"\" preload=\"none\" width=\"900px\" height=\"600px\">\n",
    "    <source src=\"Classification feature engineering Python.mp4\">\n",
    "</video>"
   ]
  },
  {
   "cell_type": "markdown",
   "metadata": {},
   "source": [
    "Feature engineering...why?\n",
    "+ Extracts additional information from the data\n",
    "+ Creates additional relevant features\n",
    "+ One of the most effective ways to improve predictive models\n",
    "\n",
    "Benefits of feature engineering\n",
    "+ Increased predictive power of the learning algorithm\n",
    "+ Makes your machine learning models perform even better!\n",
    "\n",
    "Types of feature engineering\n",
    "+ Indicator variables 指示变量\n",
    "+ Interaction features 交互特征\n",
    "+ Feature representation"
   ]
  },
  {
   "cell_type": "markdown",
   "metadata": {},
   "source": [
    "1. Indicator variables\n",
    "  + Threshold indicator\n",
    "    + age: high school vs college\n",
    "  + Multiple features\n",
    "    + used as a flag\n",
    "  + Special events\n",
    "    + black Friday\n",
    "  Christmas\n",
    "  + Groups of classes\n",
    "    + website traffic paid flag\n",
    "      + Google adwords\n",
    "      + Facebook ads\n",
    "\n",
    "2. Interaction features\n",
    "  + Sum\n",
    "  + Difference\n",
    "  + Product\n",
    "  + Quotient\n",
    "  + Other mathematical combos\n",
    "  \n",
    "3. Feature representation\n",
    "  + Datetime stamps\n",
    "    + Day of week\n",
    "    + Hour of day\n",
    "  + Grouping categorical levels into 'Other'\n",
    "  + Transform categorical to dummy variables\n",
    "    + (k - 1) binary columns\n",
    "\n",
    ">Different categorical levels\n",
    "+ Training data:\n",
    "  + model trained with [red, blue, green]\n",
    "+ Test data:\n",
    "  + model test with [red, green, yellow]\n",
    "  + additional color not seen in training\n",
    "  + one color missing\n",
    "+ Robust one-hot encoding\n",
    "\n",
    "<br>\n",
    "\n",
    "Function| returns\n",
    ":-|:-\n",
    "sklearn.linear_model.LogisticRegression| logistic regression\n",
    "sklearn.model_selection.train_test_split| train/test split function\n",
    "sns.countplot(x='Loan Status', data=data)| bar plot\n",
    "df.drop(['Feature 1', 'Feature 2'], axis=1)| drops list of features\n",
    "df[\"Loan Status\"].replace({'Paid': 0, 'Not Paid': 1})| Loan Status as integers\n",
    "pd.get_dummies()| k - 1 binary features\n",
    "sklearn.metrics.accuracy_score(y_test, predict(X_test))| model accuracy"
   ]
  },
  {
   "cell_type": "code",
   "execution_count": null,
   "metadata": {},
   "outputs": [],
   "source": []
  },
  {
   "cell_type": "code",
   "execution_count": null,
   "metadata": {},
   "outputs": [],
   "source": []
  },
  {
   "cell_type": "code",
   "execution_count": null,
   "metadata": {},
   "outputs": [],
   "source": []
  },
  {
   "cell_type": "code",
   "execution_count": null,
   "metadata": {},
   "outputs": [],
   "source": []
  },
  {
   "cell_type": "code",
   "execution_count": null,
   "metadata": {},
   "outputs": [],
   "source": []
  },
  {
   "cell_type": "code",
   "execution_count": null,
   "metadata": {},
   "outputs": [],
   "source": []
  },
  {
   "cell_type": "code",
   "execution_count": null,
   "metadata": {},
   "outputs": [],
   "source": []
  },
  {
   "cell_type": "code",
   "execution_count": null,
   "metadata": {},
   "outputs": [],
   "source": []
  },
  {
   "cell_type": "code",
   "execution_count": null,
   "metadata": {},
   "outputs": [],
   "source": []
  },
  {
   "cell_type": "code",
   "execution_count": null,
   "metadata": {},
   "outputs": [],
   "source": []
  },
  {
   "cell_type": "code",
   "execution_count": null,
   "metadata": {},
   "outputs": [],
   "source": []
  },
  {
   "cell_type": "code",
   "execution_count": null,
   "metadata": {},
   "outputs": [],
   "source": []
  },
  {
   "cell_type": "code",
   "execution_count": null,
   "metadata": {},
   "outputs": [],
   "source": []
  },
  {
   "cell_type": "code",
   "execution_count": null,
   "metadata": {},
   "outputs": [],
   "source": []
  },
  {
   "cell_type": "code",
   "execution_count": null,
   "metadata": {},
   "outputs": [],
   "source": []
  },
  {
   "cell_type": "code",
   "execution_count": null,
   "metadata": {},
   "outputs": [],
   "source": []
  },
  {
   "cell_type": "code",
   "execution_count": null,
   "metadata": {},
   "outputs": [],
   "source": []
  },
  {
   "cell_type": "code",
   "execution_count": null,
   "metadata": {},
   "outputs": [],
   "source": []
  },
  {
   "cell_type": "code",
   "execution_count": null,
   "metadata": {},
   "outputs": [],
   "source": []
  },
  {
   "cell_type": "code",
   "execution_count": null,
   "metadata": {},
   "outputs": [],
   "source": []
  },
  {
   "cell_type": "code",
   "execution_count": null,
   "metadata": {},
   "outputs": [],
   "source": []
  },
  {
   "cell_type": "code",
   "execution_count": null,
   "metadata": {},
   "outputs": [],
   "source": []
  },
  {
   "cell_type": "code",
   "execution_count": null,
   "metadata": {},
   "outputs": [],
   "source": []
  },
  {
   "cell_type": "code",
   "execution_count": null,
   "metadata": {},
   "outputs": [],
   "source": []
  },
  {
   "cell_type": "code",
   "execution_count": null,
   "metadata": {},
   "outputs": [],
   "source": []
  },
  {
   "cell_type": "code",
   "execution_count": null,
   "metadata": {},
   "outputs": [],
   "source": []
  },
  {
   "cell_type": "code",
   "execution_count": null,
   "metadata": {},
   "outputs": [],
   "source": []
  },
  {
   "cell_type": "code",
   "execution_count": null,
   "metadata": {},
   "outputs": [],
   "source": []
  },
  {
   "cell_type": "code",
   "execution_count": null,
   "metadata": {},
   "outputs": [],
   "source": []
  },
  {
   "cell_type": "code",
   "execution_count": null,
   "metadata": {},
   "outputs": [],
   "source": []
  },
  {
   "cell_type": "code",
   "execution_count": null,
   "metadata": {},
   "outputs": [],
   "source": []
  },
  {
   "cell_type": "code",
   "execution_count": null,
   "metadata": {},
   "outputs": [],
   "source": []
  },
  {
   "cell_type": "code",
   "execution_count": null,
   "metadata": {},
   "outputs": [],
   "source": []
  },
  {
   "cell_type": "code",
   "execution_count": null,
   "metadata": {},
   "outputs": [],
   "source": []
  },
  {
   "cell_type": "code",
   "execution_count": null,
   "metadata": {},
   "outputs": [],
   "source": []
  },
  {
   "cell_type": "code",
   "execution_count": null,
   "metadata": {},
   "outputs": [],
   "source": []
  },
  {
   "cell_type": "code",
   "execution_count": null,
   "metadata": {},
   "outputs": [],
   "source": []
  },
  {
   "cell_type": "code",
   "execution_count": null,
   "metadata": {},
   "outputs": [],
   "source": []
  },
  {
   "cell_type": "code",
   "execution_count": null,
   "metadata": {},
   "outputs": [],
   "source": []
  },
  {
   "cell_type": "code",
   "execution_count": null,
   "metadata": {},
   "outputs": [],
   "source": []
  }
 ],
 "metadata": {
  "kernelspec": {
   "display_name": "Python 3",
   "language": "python",
   "name": "python3"
  },
  "language_info": {
   "codemirror_mode": {
    "name": "ipython",
    "version": 3
   },
   "file_extension": ".py",
   "mimetype": "text/x-python",
   "name": "python",
   "nbconvert_exporter": "python",
   "pygments_lexer": "ipython3",
   "version": "3.7.4"
  },
  "toc": {
   "base_numbering": 1,
   "nav_menu": {},
   "number_sections": true,
   "sideBar": true,
   "skip_h1_title": false,
   "title_cell": "Table of Contents",
   "title_sidebar": "Contents",
   "toc_cell": false,
   "toc_position": {
    "height": "calc(100% - 180px)",
    "left": "10px",
    "top": "150px",
    "width": "193.6px"
   },
   "toc_section_display": true,
   "toc_window_display": false
  },
  "varInspector": {
   "cols": {
    "lenName": 16,
    "lenType": 16,
    "lenVar": 40
   },
   "kernels_config": {
    "python": {
     "delete_cmd_postfix": "",
     "delete_cmd_prefix": "del ",
     "library": "var_list.py",
     "varRefreshCmd": "print(var_dic_list())"
    },
    "r": {
     "delete_cmd_postfix": ") ",
     "delete_cmd_prefix": "rm(",
     "library": "var_list.r",
     "varRefreshCmd": "cat(var_dic_list()) "
    }
   },
   "oldHeight": 319.65,
   "position": {
    "height": "40px",
    "left": "501.4px",
    "right": "20px",
    "top": "39px",
    "width": "250px"
   },
   "types_to_exclude": [
    "module",
    "function",
    "builtin_function_or_method",
    "instance",
    "_Feature"
   ],
   "varInspector_section_display": "none",
   "window_display": false
  }
 },
 "nbformat": 4,
 "nbformat_minor": 2
}
